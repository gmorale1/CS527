{
 "cells": [
  {
   "cell_type": "code",
   "execution_count": 13,
   "metadata": {},
   "outputs": [],
   "source": [
    "import numpy as np\n",
    "import subprocess\n",
    "import os\n",
    "import matplotlib.pyplot as plt\n",
    "import pandas as pd\n"
   ]
  },
  {
   "cell_type": "code",
   "execution_count": 14,
   "metadata": {},
   "outputs": [
    {
     "data": {
      "image/png": "[encoded data removed]",
      "text/plain": [
       "<Figure size 640x480 with 8 Axes>"
      ]
     },
     "metadata": {},
     "output_type": "display_data"
    }
   ],
   "source": [
    "pop_sizes = [25, 50, 75, 100]\n",
    "mut_probs = [0, 0.01, 0.03, 0.05]\n",
    "cross_probs = [0,0.1,0.3,0.5]\n",
    "tourn_sizes = [2,3,4,5]\n",
    "figure, graphs = plt.subplots(4,2)"
   ]
  },
  {
   "cell_type": "code",
   "execution_count": 15,
   "metadata": {},
   "outputs": [],
   "source": [
    "\"\"\"\n",
    "graphs simulation results.\n",
    "\n",
    "y: fitness, x: generation\n",
    "defaults: pop size = 50, mutation: 0.01, crossover: 0.3, tournament: 2\n",
    "\n",
    "results columns: iteration num,generation,avg fitness,best fitness,best genome,solved,num solutions,diversity,n,p_m,p_c,trn_size\n",
    "\"\"\"\n",
    "results = pd.read_csv(\"results.csv\")\n",
    "\n",
    "#graph populations\n",
    "populations = []\n",
    "populations.append(results[(results[\"n\"] == 25 ) & (results[\"p_m\"] == 0.01) & (results[\"p_c\"] == 0.3) & (results[\"trn_size\"] == 2)])\n",
    "populations.append(results[(results[\"n\"] == 50 ) & (results[\"p_m\"] == 0.01) & (results[\"p_c\"] == 0.3) & (results[\"trn_size\"] == 2)])\n",
    "populations.append(results[(results[\"n\"] == 75 ) & (results[\"p_m\"] == 0.01) & (results[\"p_c\"] == 0.3) & (results[\"trn_size\"] == 2)])\n",
    "populations.append(results[(results[\"n\"] == 100 ) & (results[\"p_m\"] == 0.01) & (results[\"p_c\"] == 0.3) & (results[\"trn_size\"] == 2)])\n",
    "pop_div = []\n",
    "\n"
   ]
  },
  {
   "cell_type": "code",
   "execution_count": 16,
   "metadata": {},
   "outputs": [],
   "source": [
    "for population in enumerate(populations):        \n",
    "    for iteration in population[1][\"iteration num\"]:\n",
    "        x = population[1][population[1][\"iteration num\"] == iteration][\"generation\"]\n",
    "        y = population[1][population[1][\"iteration num\"] == iteration][\"avg fitness\"]\n",
    "        yb = population[1][population[1][\"iteration num\"] == iteration][\"best fitness\"]\n",
    "        div = population[1][population[1][\"iteration num\"] == iteration][\"diversity\"]\n",
    "        pop_div = []\n",
    "\n",
    "        #plot population\n",
    "        graphs[population[0],0].plot(x,y, alpha = 0.002)\n",
    "        graphs[population[0],0].set(xlabel=\"generation\")\n",
    "        graphs[population[0],0].set(ylabel=\"population\")\n",
    "        graphs[population[0],0].set(title=\"Mutation \"+str(pop_sizes[population[0]])+\" Avg Fitnesses\")\n",
    "\n",
    "        graphs[population[0],1].plot(x,yb, alpha = 0.002)\n",
    "        graphs[population[0],1].set(xlabel=\"generation\")\n",
    "        graphs[population[0],1].set(ylabel=\"population\")\n",
    "        graphs[population[0],1].set(title=\"Mutation \"+str(pop_sizes[population[0]])+\" Best Fitnesses\")\n",
    "\n",
    "plt.show()"
   ]
  },
  {
   "cell_type": "code",
   "execution_count": 17,
   "metadata": {},
   "outputs": [],
   "source": [
    "#graph mutation\n",
    "mutations = []\n",
    "mutations.append(results[(results[\"n\"] == 50 ) & (results[\"p_m\"] == 0.0) & (results[\"p_c\"] == 0.3) & (results[\"trn_size\"] == 2)])\n",
    "mutations.append(results[(results[\"n\"] == 50 ) & (results[\"p_m\"] == 0.01) & (results[\"p_c\"] == 0.3) & (results[\"trn_size\"] == 2)])\n",
    "mutations.append(results[(results[\"n\"] == 50 ) & (results[\"p_m\"] == 0.03) & (results[\"p_c\"] == 0.3) & (results[\"trn_size\"] == 2)])\n",
    "mutations.append(results[(results[\"n\"] == 50 ) & (results[\"p_m\"] == 0.05) & (results[\"p_c\"] == 0.3) & (results[\"trn_size\"] == 2)])\n",
    "\n",
    "mut_div = []"
   ]
  },
  {
   "cell_type": "code",
   "execution_count": 18,
   "metadata": {},
   "outputs": [],
   "source": [
    "for mutation in enumerate(mutations):        \n",
    "    for iteration in mutation[1][\"iteration num\"]:\n",
    "        x = mutation[1][mutation[1][\"iteration num\"] == iteration][\"generation\"]\n",
    "        y = mutation[1][mutation[1][\"iteration num\"] == iteration][\"avg fitness\"]\n",
    "        yb = mutation[1][mutation[1][\"iteration num\"] == iteration][\"best fitness\"]\n",
    "        div = mutation[1][mutation[1][\"iteration num\"] == iteration][\"diversity\"]\n",
    "        mut_div.append(div)\n",
    "\n",
    "        #plot population\n",
    "        graphs[mutation[0],0].plot(x,y, alpha = 0.002)\n",
    "        graphs[mutation[0],0].set(xlabel=\"generation\")\n",
    "        graphs[mutation[0],0].set(ylabel=\"mutation\")\n",
    "        graphs[mutation[0],0].set(title=\"Mutation \"+str(mut_probs[mutation[0]])+\" Avg Fitnesses\")\n",
    "\n",
    "        graphs[mutation[0],1].plot(x,yb, alpha = 0.002)\n",
    "        graphs[mutation[0],1].set(xlabel=\"generation\")\n",
    "        graphs[mutation[0],1].set(ylabel=\"mutation\")\n",
    "        graphs[mutation[0],0].set(title=\"Mutation \"+str(mut_probs[mutation[0]])+\" Best Fitnesses\")\n",
    "\n",
    "        \n",
    "\n",
    "plt.show()"
   ]
  },
  {
   "cell_type": "code",
   "execution_count": null,
   "metadata": {},
   "outputs": [],
   "source": [
    "#graph crossover\n",
    "crossovers = []\n",
    "crossovers.append(results[(results[\"n\"] == 50 ) & (results[\"p_m\"] == 0.01) & (results[\"p_c\"] == 0.0) & (results[\"trn_size\"] == 2)])\n",
    "crossovers.append(results[(results[\"n\"] == 50 ) & (results[\"p_m\"] == 0.01) & (results[\"p_c\"] == 0.1) & (results[\"trn_size\"] == 2)])\n",
    "crossovers.append(results[(results[\"n\"] == 50 ) & (results[\"p_m\"] == 0.01) & (results[\"p_c\"] == 0.3) & (results[\"trn_size\"] == 2)])\n",
    "crossovers.append(results[(results[\"n\"] == 50 ) & (results[\"p_m\"] == 0.01) & (results[\"p_c\"] == 0.5) & (results[\"trn_size\"] == 2)])\n",
    "cros_div = []"
   ]
  },
  {
   "cell_type": "code",
   "execution_count": null,
   "metadata": {},
   "outputs": [],
   "source": [
    "for crossover in enumerate(crossovers):        \n",
    "    for iteration in crossover[1][\"iteration num\"]:\n",
    "        x = crossover[1][crossover[1][\"iteration num\"] == iteration][\"generation\"]\n",
    "        y = crossover[1][crossover[1][\"iteration num\"] == iteration][\"avg fitness\"]\n",
    "        yb = crossover[1][crossover[1][\"iteration num\"] == iteration][\"best fitness\"]\n",
    "        div = mutation[1][mutation[1][\"iteration num\"] == iteration][\"diversity\"]\n",
    "        cros_div.append(div)\n",
    "\n",
    "        #plot population\n",
    "        graphs[crossover[0],0].plot(x,y, alpha = 0.002)\n",
    "        graphs[crossover[0],0].set(xlabel=\"generation\")\n",
    "        graphs[crossover[0],0].set(ylabel=\"mutation\")\n",
    "        graphs[crossover[0],0].set(title=\"Mutation \"+str(cross_probs[crossover[0]])+\" Avg Fitnesses\")\n",
    "\n",
    "        graphs[crossover[0],1].plot(x,yb, alpha = 0.002)\n",
    "        graphs[crossover[0],1].set(xlabel=\"generation\")\n",
    "        graphs[crossover[0],1].set(ylabel=\"mutation\")\n",
    "        graphs[crossover[0],0].set(title=\"Mutation \"+str(cross_probs[crossover[0]])+\" Best Fitnesses\")\n",
    "\n",
    "plt.show()"
   ]
  },
  {
   "cell_type": "code",
   "execution_count": null,
   "metadata": {},
   "outputs": [],
   "source": [
    "#graph tournaments\n",
    "tournaments = []\n",
    "tournaments.append(results[(results[\"n\"] == 50 ) & (results[\"p_m\"] == 0.01) & (results[\"p_c\"] == 0.3) & (results[\"trn_size\"] == 2)])\n",
    "tournaments.append(results[(results[\"n\"] == 50 ) & (results[\"p_m\"] == 0.01) & (results[\"p_c\"] == 0.3) & (results[\"trn_size\"] == 3)])\n",
    "tournaments.append(results[(results[\"n\"] == 50 ) & (results[\"p_m\"] == 0.01) & (results[\"p_c\"] == 0.3) & (results[\"trn_size\"] == 4)])\n",
    "tournaments.append(results[(results[\"n\"] == 50 ) & (results[\"p_m\"] == 0.01) & (results[\"p_c\"] == 0.3) & (results[\"trn_size\"] == 5)])\n",
    "tourn_div = []"
   ]
  },
  {
   "cell_type": "code",
   "execution_count": null,
   "metadata": {},
   "outputs": [],
   "source": [
    "for tournament in enumerate(tournaments):        \n",
    "    for iteration in crossover[1][\"iteration num\"]:\n",
    "        x = tournament[1][tournament[1][\"iteration num\"] == iteration][\"generation\"]\n",
    "        y = tournament[1][tournament[1][\"iteration num\"] == iteration][\"avg fitness\"]\n",
    "        yb = tournament[1][tournament[1][\"iteration num\"] == iteration][\"best fitness\"]\n",
    "        div = mutation[1][mutation[1][\"iteration num\"] == iteration][\"diversity\"]\n",
    "        tourn_div.append(div)\n",
    "\n",
    "        #plot population\n",
    "        graphs[tournament[0],0].plot(x,y, alpha = 0.002)\n",
    "        graphs[tournament[0],0].set(xlabel=\"generation\")\n",
    "        graphs[tournament[0],0].set(ylabel=\"mutation\")\n",
    "        graphs[tournament[0],0].set(title=\"Mutation \"+str(tourn_sizes[tournament[0]])+\" Avg Fitnesses\")\n",
    "\n",
    "        graphs[tournament[0],1].plot(x,yb, alpha = 0.002)\n",
    "        graphs[tournament[0],1].set(xlabel=\"generation\")\n",
    "        graphs[tournament[0],1].set(ylabel=\"mutation\")\n",
    "        graphs[tournament[0],0].set(title=\"Mutation \"+str(tourn_sizes[tournament[0]])+\" Best Fitnesses\")\n",
    "\n",
    "plt.show()"
   ]
  },
  {
   "cell_type": "code",
   "execution_count": null,
   "metadata": {},
   "outputs": [],
   "source": [
    "#graph diversity\n"
   ]
  },
  {
   "cell_type": "code",
   "execution_count": null,
   "metadata": {},
   "outputs": [],
   "source": []
  }
 ],
 "metadata": {
  "kernelspec": {
   "display_name": "Python 3",
   "language": "python",
   "name": "python3"
  },
  "language_info": {
   "codemirror_mode": {
    "name": "ipython",
    "version": 3
   },
   "file_extension": ".py",
   "mimetype": "text/x-python",
   "name": "python",
   "nbconvert_exporter": "python",
   "pygments_lexer": "ipython3",
   "version": "3.9.13"
  },
  "orig_nbformat": 4,
  "vscode": {
   "interpreter": {
    "hash": "742e23e002d97d10a0958fad048e929796fd76e96548c75730711e04de1907e3"
   }
  }
 },
 "nbformat": 4,
 "nbformat_minor": 2
}
